{
 "cells": [
  {
   "cell_type": "code",
   "execution_count": 1,
   "id": "5195475d",
   "metadata": {},
   "outputs": [],
   "source": [
    "import glob\n",
    "import numpy as np\n",
    "import pandas as pd\n",
    "import matplotlib.pyplot as plt\n",
    "import seaborn as sns"
   ]
  },
  {
   "cell_type": "code",
   "execution_count": 2,
   "id": "fec05546",
   "metadata": {},
   "outputs": [],
   "source": [
    "import torch\n",
    "import torch.optim as optim\n",
    "import torch.nn as nn\n",
    "import torch.nn.init as nn_init\n",
    "import torch.nn.functional as F\n",
    "import torch.nn.init as init\n",
    "from torch.utils.data import DataLoader"
   ]
  },
  {
   "cell_type": "code",
   "execution_count": 3,
   "id": "d0ab513b",
   "metadata": {},
   "outputs": [],
   "source": [
    "import sys\n",
    "sys.path.append(\"..\")\n",
    "from mibi.preprocess.mibi_image import *\n",
    "from mibi.preprocess.mibi_plot import *\n",
    "from mibi.nets.bgsub.dataset_regression import BackgroundSubtractionRegressionDataset\n",
    "from mibi.nets.bgsub.network import BGSubtractRegression"
   ]
  },
  {
   "cell_type": "code",
   "execution_count": 4,
   "id": "ccb2e113",
   "metadata": {},
   "outputs": [],
   "source": [
    "data_dir = '/Users/mschachter/data/CHOP_TMA_pilot_2'\n",
    "images_dir = os.path.join(data_dir, 'extracted')\n",
    "channels_data_path = os.path.join(data_dir, 'info', 'panel.csv')"
   ]
  },
  {
   "cell_type": "code",
   "execution_count": 5,
   "id": "d6f06901",
   "metadata": {},
   "outputs": [
    {
     "name": "stdout",
     "output_type": "stream",
     "text": [
      "Loading from /Users/mschachter/data/CHOP_TMA_pilot_2/extracted/Point4\n",
      "Loading from /Users/mschachter/data/CHOP_TMA_pilot_2/extracted/Point3\n",
      "Loading from /Users/mschachter/data/CHOP_TMA_pilot_2/extracted/Point2\n",
      "Loading from /Users/mschachter/data/CHOP_TMA_pilot_2/extracted/Point5\n",
      "Loading from /Users/mschachter/data/CHOP_TMA_pilot_2/extracted/Point11\n",
      "Loading from /Users/mschachter/data/CHOP_TMA_pilot_2/extracted/Point16\n",
      "Loading from /Users/mschachter/data/CHOP_TMA_pilot_2/extracted/Point29\n",
      "Loading from /Users/mschachter/data/CHOP_TMA_pilot_2/extracted/Point20\n",
      "Loading from /Users/mschachter/data/CHOP_TMA_pilot_2/extracted/Point27\n",
      "Loading from /Users/mschachter/data/CHOP_TMA_pilot_2/extracted/Point18\n",
      "Loading from /Users/mschachter/data/CHOP_TMA_pilot_2/extracted/Point26\n",
      "Loading from /Users/mschachter/data/CHOP_TMA_pilot_2/extracted/Point19\n",
      "Loading from /Users/mschachter/data/CHOP_TMA_pilot_2/extracted/Point21\n",
      "Loading from /Users/mschachter/data/CHOP_TMA_pilot_2/extracted/Point17\n",
      "Loading from /Users/mschachter/data/CHOP_TMA_pilot_2/extracted/Point28\n",
      "Loading from /Users/mschachter/data/CHOP_TMA_pilot_2/extracted/Point10\n",
      "Loading from /Users/mschachter/data/CHOP_TMA_pilot_2/extracted/Point30\n",
      "Loading from /Users/mschachter/data/CHOP_TMA_pilot_2/extracted/Point7\n",
      "Loading from /Users/mschachter/data/CHOP_TMA_pilot_2/extracted/Point9\n",
      "Loading from /Users/mschachter/data/CHOP_TMA_pilot_2/extracted/Point8\n",
      "Loading from /Users/mschachter/data/CHOP_TMA_pilot_2/extracted/Point6\n",
      "Loading from /Users/mschachter/data/CHOP_TMA_pilot_2/extracted/Point1\n",
      "Loading from /Users/mschachter/data/CHOP_TMA_pilot_2/extracted/Point15\n",
      "Loading from /Users/mschachter/data/CHOP_TMA_pilot_2/extracted/Point12\n",
      "Loading from /Users/mschachter/data/CHOP_TMA_pilot_2/extracted/Point24\n",
      "Loading from /Users/mschachter/data/CHOP_TMA_pilot_2/extracted/Point23\n",
      "Loading from /Users/mschachter/data/CHOP_TMA_pilot_2/extracted/Point22\n",
      "Loading from /Users/mschachter/data/CHOP_TMA_pilot_2/extracted/Point25\n",
      "Loading from /Users/mschachter/data/CHOP_TMA_pilot_2/extracted/Point13\n",
      "Loading from /Users/mschachter/data/CHOP_TMA_pilot_2/extracted/Point14\n"
     ]
    }
   ],
   "source": [
    "ds = BackgroundSubtractionRegressionDataset(images_dir, channels_data_path)"
   ]
  },
  {
   "cell_type": "code",
   "execution_count": 6,
   "id": "7bd3c475",
   "metadata": {},
   "outputs": [
    {
     "data": {
      "text/plain": [
       "torch.Size([1024, 1024, 19])"
      ]
     },
     "execution_count": 6,
     "metadata": {},
     "output_type": "execute_result"
    }
   ],
   "source": [
    "ds[0].shape"
   ]
  },
  {
   "cell_type": "code",
   "execution_count": 7,
   "id": "7bb6d492",
   "metadata": {},
   "outputs": [
    {
     "data": {
      "image/png": "[encoded data removed]",
      "text/plain": [
       "<Figure size 576x432 with 1 Axes>"
      ]
     },
     "metadata": {
      "needs_background": "light"
     },
     "output_type": "display_data"
    }
   ],
   "source": [
    "fig = plt.figure(figsize=(8, 6))\n",
    "plt.imshow(ds.M.detach().numpy(), interpolation='nearest', aspect='auto', cmap=plt.cm.bone_r);\n",
    "plt.xticks(range(len(ds.chan_indices)), ds.chan_names, rotation=90);\n",
    "plt.yticks(range(len(ds.chan_indices)), ds.chan_names);\n",
    "for k in range(len(ds.chan_indices)):\n",
    "    plt.axhline(k+0.5, c='k', alpha=0.5)\n",
    "    plt.axvline(k+0.5, c='k', alpha=0.5)"
   ]
  },
  {
   "cell_type": "code",
   "execution_count": 8,
   "id": "56f2b7b1",
   "metadata": {},
   "outputs": [],
   "source": [
    "net = BGSubtractRegression(ds.M)"
   ]
  }
 ],
 "metadata": {
  "kernelspec": {
   "display_name": "Python 3 (ipykernel)",
   "language": "python",
   "name": "python3"
  },
  "language_info": {
   "codemirror_mode": {
    "name": "ipython",
    "version": 3
   },
   "file_extension": ".py",
   "mimetype": "text/x-python",
   "name": "python",
   "nbconvert_exporter": "python",
   "pygments_lexer": "ipython3",
   "version": "3.7.11"
  }
 },
 "nbformat": 4,
 "nbformat_minor": 5
}
